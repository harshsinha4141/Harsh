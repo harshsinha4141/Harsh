{
 "cells": [
  {
   "cell_type": "markdown",
   "id": "66a5d402",
   "metadata": {},
   "source": [
    "# Project- 'SALAAH'"
   ]
  },
  {
   "cell_type": "code",
   "execution_count": 3,
   "id": "43076c34",
   "metadata": {},
   "outputs": [
    {
     "ename": "SyntaxError",
     "evalue": "EOL while scanning string literal (1329760182.py, line 42)",
     "output_type": "error",
     "traceback": [
      "\u001b[1;36m  File \u001b[1;32m\"C:\\Users\\harsh\\AppData\\Local\\Temp\\ipykernel_17820\\1329760182.py\"\u001b[1;36m, line \u001b[1;32m42\u001b[0m\n\u001b[1;33m    cure={('High_Blood_Pressure'): ('\\n1.Eat a Healtasdfghj\u001b[0m\n\u001b[1;37m                                                           ^\u001b[0m\n\u001b[1;31mSyntaxError\u001b[0m\u001b[1;31m:\u001b[0m EOL while scanning string literal\n"
     ]
    }
   ],
   "source": [
    "print('\\033[1m'+'Welcome to SALAAH'.center(120)+'\\033[0m')\n",
    "print('Sehath aapki,fikar hamari'.center(120))\n",
    "Name=input(\"Name of Recipient: \")\n",
    "email=input(\"Enter your mail id:-\")\n",
    "mobile=input(\"Enter your mobile number:-\")\n",
    "m=mobile[6:11:1]\n",
    "print(\"To login enter the otp send to your mobile number ending:-\",m)\n",
    "ot=int(input('OTP is:-'))\n",
    "word=input(\"Enter your password:-\")\n",
    "n=len(word)\n",
    "passw=word[-1:-3].rjust(n-2,\"*\")\n",
    "str2=passw+word[n-2:n]\n",
    "print(\"The ending digits of your password are:-\",str2)\n",
    "days=int(input(\"how long were you sick:\"))\n",
    "disease={('anxiety','lack_of_breathing','headache'): \"High_Blood_Pressure\", ('light_headache','blurred_vision','dizziness'): \"Low_Blood_Pressure\",\n",
    "  ('chest_pain','pain_in_jaw','pain_in_one_or_both_arms'): \"Heart_Attack\", ('very_thirsty','urinate(pee)_a_lot','feel_very_tired'): \"Diabates\", \n",
    "  ('allergies','frequent_coughing','shortness_of_breathing'): \"Asthma\", ('high_fever','joint_pain','vomitting'): \"Dengue\",\n",
    "  ('bloody_stool','constipation','pain_around_anus'): \"Piles\", ('dehydration','redness_in_eyes','joint_and_muscle_pain'): \"Viral Fever\", \n",
    "  ('blood_in_cough','fever','frequent_cough'): \"Tuberculosis\", ('nausea','blood_or_mucus_in_stool','abdominal_pain_or_cramp'): \"Diarrhea\", \n",
    "  ('small_bumps_on_skin','rashes_on_the_skin','headache_and_bodyache'): \"Small Pox\", ('yellow_skin','dark_coloured_urine','abdomen_pain'): \"Jaundice\", \n",
    "  ('watery_diarrhea','leg_cramp','restlessness'): \"Cholera\",('pneumonia','Diarrhoea','white_spots_on_tongue'): \"AIDS\"}\n",
    "a=input('Symptoms1: ')\n",
    "x1=next(v for k,v in disease.items() if a in k)\n",
    "#print(\"Disease may be:\",x1)\n",
    "b=input('Symptoms2: ')\n",
    "x2=next(v for k,v in disease.items() if b in k)\n",
    "#print(\"Disease may be:\",x2)\n",
    "c=input('Symptoms3: ')\n",
    "x3=next(v for k,v in disease.items() if c in k)\n",
    "#print(\"Disease may be:\",x3)\n",
    "d=input('Symptoms4: ')\n",
    "x4=next(v for k,v in disease.items() if d in k)\n",
    "#print(\"Disease may be:\",x4)\n",
    "e=input('Symptoms5: ')\n",
    "x5=next(v for k,v in disease.items() if e in k)\n",
    "#print(\"Disease may be:\",x5)\n",
    "\n",
    "lis=[x1,x2,x3,x4,x5]\n",
    "res = max(set(lis), key = lis.count)\n",
    "print(\"you may have these disease: \",'\\033[1m'+res+'\\033[0m')\n",
    "if days <= 3:\n",
    "        cure={('High_Blood_Pressure'): ('\\n1.Eat a Healtasdfghj\n",
    "                                        hy and balanced diet \\n2.Be more Physically Active \\n3.Reduce salt in Diet'),\n",
    "        ('Low_Blood_pressure'): ('\\n1.Drink more Water \\n2.Exercise regularly \\n3.Take Good Sleep'),\n",
    "        ('Heart_Attack'):('\\n1.Eat a Healthy and balanced diet \\n2.Be more Physically Active \\n3.Take any prescribed Medicine'),\n",
    "        ('Diabates'): ('\\n1.Exercise regularly \\n2.Eat less Sugar \\n3.lose Extra Weight'),\n",
    "        ('Asthma'): ('\\n1.Do breathing Exercise or Yoga \\n2.Use mask outside the home \\n3.Take medicine on time'),\n",
    "        ('Dengue'): ('\\n1.Use Mosquito net \\n2.Use insect repellent \\n3.Eat Papaya'),\n",
    "        ('Tuberculosis'): ('\\n1.Do breathing Exercise or Yoga \\n2.Use mask outside the home \\n3.Take medicine on time'),\n",
    "        ('Diarrhea'): ('\\n1.Drink clean water \\n2.Eat fresh food \\n3.Wash hand properly before taking meal'),\n",
    "        ('Small_Pox'): ('\\n1.Take small pox vaccine \\n2.Take healthy food \\n3.Maintain a distance from infected_person'),\n",
    "        ('Piles'): ('\\n1.Avoid straining \\n2.Avoid Oily and Spicy food \\n3.Drink_ nough water'),  \n",
    "        ('Viral_Fever'): ('\\n1.Wash your hand frequently \\n2.Eat Popsicles \\n3.Drink plenty of water'),\n",
    "        ('AIDS'): ('\\n1.Never share Injection needles \\n2.Avoid unprotected sexual behaviour \\n3.Do not inject drugs'),\n",
    "        ('Jaundice'): ('\\n1.Eat a balanced diet \\n2.Exercise daily \\n3.Get vaccination of hepatitis-B'),\n",
    "        ('Cholera'): ('\\n1.Drink clean water \\n2.Wash your hand before having food \\n3.Eat well cooked food')}\n",
    "        \n",
    "        a=res\n",
    "        y1=next(v for k,v in cure.items() if a in k)\n",
    "        print(\"Follow this Fitness mantra:-\",y1)\n",
    "\n",
    "else:\n",
    "    print('you need to contact doctor we had some consulted doctor \\nDoctors are:- \\n1.Dr.Ajay Mishra:-993140xxxx','\\n2.Dr.Shruti Sharma:-947221xxxx \\n3.Dr.Harshverdhan:-914421xxxx \\n4.Dr.Raj:-761122xxxx \\n5.Dr.Ram:-761890xxxx ')\n",
    "feedback =input(\"FEEDBACK: \")\n",
    "print('\\033[1m'+'!!Thank You!!'.center(120)+'\\033[0m')"
   ]
  },
  {
   "cell_type": "code",
   "execution_count": null,
   "id": "3eb3ce1b",
   "metadata": {},
   "outputs": [],
   "source": []
  },
  {
   "cell_type": "code",
   "execution_count": null,
   "id": "edfdd364",
   "metadata": {},
   "outputs": [],
   "source": []
  }
 ],
 "metadata": {
  "kernelspec": {
   "display_name": "Python 3 (ipykernel)",
   "language": "python",
   "name": "python3"
  },
  "language_info": {
   "codemirror_mode": {
    "name": "ipython",
    "version": 3
   },
   "file_extension": ".py",
   "mimetype": "text/x-python",
   "name": "python",
   "nbconvert_exporter": "python",
   "pygments_lexer": "ipython3",
   "version": "3.9.13"
  }
 },
 "nbformat": 4,
 "nbformat_minor": 5
}
